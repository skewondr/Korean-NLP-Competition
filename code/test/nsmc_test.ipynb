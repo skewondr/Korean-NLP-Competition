{
 "cells": [
  {
   "cell_type": "markdown",
   "metadata": {},
   "source": [
    "#---목표---#\n",
    "1. 형태소 단위의 토큰화 (komoran / wordpiece) 비교하기 \n",
    "    * 형태소로 하는 이유 : 안다, 안한다, 안에 (동사, 부사, 명사 구분) \n",
    "2. oov의 경우, 가까운 음운으로 변환해주는 코드 개발 \n",
    "    * 100개 (최대) corpus 설정 후 그 안에서 hyter parameter 설정에 따라 비슷한 단어를 같은 인덱스로 묶는 경우 \n",
    "    * 100개 (최대) corpus 설정 후 임베딩 과정에서 oov가 발생할 경우, 가장 비슷한 단어를 같은 인덱스로 붙여주는 경우 (임베딩 time complexity가 굉장히 늘어남) \n",
    "3. 임베딩: padding, 형태소, 문장, 단어 \n",
    "4. 위와 같이 새로운 임베딩 방식을 기반으로 한 kobert pre-training & fine-tuning\n",
    "5. train 할때는 masked sentence까지 포함한다. \n",
    "6. nsmc + 국립국어원 웹 corpus 데이터 이용 \n",
    "    '모두의 말뭉치'에서 웹 말뭉치, 형태 분석 말뭉치를 사용한다.  \n",
    "7. 웹말뭉치 + nsmc train 으로 단어 사전 생성 및 pre-train 해보기 \n"
   ]
  },
  {
   "cell_type": "markdown",
   "metadata": {},
   "source": [
    "nsmc_EDA\n",
    "#---전처리 과정---#\n",
    "1. 특수문자, 이모티콘, 숫자, 공백 (일단 숫자와 공백만 제거하기) \n",
    "2. 토큰화 (패키지에 따라 형태소 구분 방식이 다르기 때문에 앙상블을 이용해보자..) \n",
    "3. 불용어, 표제어 제거 (한국어에서는 불용어를 따로 지정하는 것이 좋음. 품사에 따라 지정해보자!) \n",
    "\n",
    "#---시각화 과정---#\n",
    "1. 클래스 개수 비율 분포 v\n",
    "2. 한 문장 당 사용 단어 수 v\n",
    "3. 전체 데이터 내에서 단어 빈도수 v\n",
    "4. 토큰화 후 임베딩 시 UNK 토큰의 수 "
   ]
  },
  {
   "cell_type": "code",
   "execution_count": 1,
   "metadata": {},
   "outputs": [],
   "source": [
    "from __future__ import absolute_import\n",
    "from __future__ import division\n",
    "from __future__ import print_function\n",
    "\n",
    "import csv\n",
    "import os\n",
    "import logging\n",
    "import argparse\n",
    "import random\n",
    "from tqdm import tqdm, trange\n",
    "import pandas as pd\n",
    "\n",
    "import numpy as np\n",
    "import torch\n",
    "from torch.utils.data import TensorDataset, DataLoader, RandomSampler, SequentialSampler\n",
    "from torch.utils.data.distributed import DistributedSampler\n",
    "\n",
    "from transformers import BertTokenizer\n",
    "from transformers import BertForSequenceClassification\n",
    "#from transformers import BertAdam\n",
    "from transformers.optimization import AdamW, get_linear_schedule_with_warmup\n",
    "\n",
    "from transformers import PYTORCH_PRETRAINED_BERT_CACHE\n",
    "\n",
    "logging.basicConfig(format = '%(asctime)s - %(levelname)s - %(name)s -   %(message)s',\n",
    "                    datefmt = '%m/%d/%Y %H:%M:%S',\n",
    "                    level = logging.INFO)\n",
    "logger = logging.getLogger(__name__)"
   ]
  },
  {
   "cell_type": "code",
   "execution_count": 2,
   "metadata": {},
   "outputs": [],
   "source": [
    "class InputExample(object):\n",
    "    \"\"\"A single training/test example for simple sequence classification.\"\"\"\n",
    "\n",
    "    def __init__(self, guid, text_a, text_b=None, label=None):\n",
    "        \"\"\"Constructs a InputExample.\n",
    "        sample 하나 당 하나의 InputExample. 다음과 같은 argument가 전달 됨.  \n",
    "            guid: 하나의 example에 대한 고유 번호.\n",
    "            text_a: 토큰화 하기 전 첫번째 문장\n",
    "            text_b: 토큰화 하기 전 두번째 문장\n",
    "            label: (문자열) example의 라벨. \n",
    "        Args:\n",
    "            guid: Unique id for the example.\n",
    "            text_a: string. The untokenized text of the first sequence. For single\n",
    "            sequence tasks, only this sequence must be specified.\n",
    "            text_b: (Optional) string. The untokenized text of the second sequence.\n",
    "            Only must be specified for sequence pair tasks.\n",
    "            label: (Optional) string. The label of the example. This should be\n",
    "            specified for train and dev examples, but not for test examples.\n",
    "        \"\"\"\n",
    "        self.guid = guid\n",
    "        self.text_a = text_a\n",
    "        self.text_b = text_b\n",
    "        self.label = label"
   ]
  },
  {
   "cell_type": "code",
   "execution_count": 3,
   "metadata": {},
   "outputs": [],
   "source": [
    "class DataProcessor(object):\n",
    "    \"\"\"Base class for data converters for sequence classification data sets.\"\"\"\n",
    "\n",
    "    def get_train_examples(self, data_dir):\n",
    "        \"\"\"Gets a collection of `InputExample`s for the train set.\"\"\"\n",
    "        raise NotImplementedError()\n",
    "\n",
    "    def get_dev_examples(self, data_dir):\n",
    "        \"\"\"Gets a collection of `InputExample`s for the dev set.\"\"\"\n",
    "        raise NotImplementedError()\n",
    "        \n",
    "    def get_test_examples(self, data_dir):\n",
    "        \"\"\"Gets a collection of `InputExample`s for the dev set.\"\"\"\n",
    "        raise NotImplementedError()\n",
    "\n",
    "    def get_labels(self):\n",
    "        \"\"\"Gets the list of labels for this data set.\"\"\"\n",
    "        raise NotImplementedError()\n",
    "\n",
    "    @classmethod\n",
    "    def _read_txt(cls, input_file, quotechar=None):\n",
    "        \"\"\"Reads a tab separated value file.\n",
    "            파일에서 한 줄 씩 읽어 lines 리스트에 저장합니다. \n",
    "        \"\"\"\n",
    "        with open(input_file, \"r\", encoding='utf-8') as f:\n",
    "            reader = csv.reader(f, delimiter=\"\\t\", quotechar=quotechar)\n",
    "            lines = []\n",
    "            for line in reader:\n",
    "                #print(line)\n",
    "                lines.append(line)\n",
    "            return lines"
   ]
  },
  {
   "cell_type": "code",
   "execution_count": 4,
   "metadata": {},
   "outputs": [],
   "source": [
    "\"\"\"nsmc 데이터를 처리하는 nsmcProcessor\"\"\"\n",
    "\n",
    "class nsmcProcessor(DataProcessor):\n",
    "    \"\"\"Processor for the nsmc data set (Naver sentiment movie corpus v1.0).\"\"\"\n",
    "\n",
    "    def get_train_examples(self, data_dir):\n",
    "        \"\"\"See base class.\"\"\"\n",
    "        logger.info(\"LOOKING AT {}\".format(os.path.join(data_dir, \"ratings_train.txt\")))\n",
    "        return self._create_examples(\n",
    "            self._read_txt(os.path.join(data_dir, \"ratings_train.txt\")), \"train\")\n",
    "\n",
    "    def get_dev_examples(self, data_dir):\n",
    "        \"\"\"See base class.\"\"\"\n",
    "        return self._create_examples(\n",
    "            self._read_txt(os.path.join(data_dir, \"ratings_dev.txt\")), \"dev\")\n",
    "    \n",
    "    def get_test_examples(self, data_dir):\n",
    "        \"\"\"See base class.\"\"\"\n",
    "        return self._create_examples(\n",
    "            self._read_txt(os.path.join(data_dir, \"ratings_test.txt\")), \"test\")\n",
    "\n",
    "    def get_labels(self):\n",
    "        \"\"\"See base class.\"\"\"\n",
    "        return [\"0\", \"1\"] # 부정 0 긍정 1\n",
    "\n",
    "    def _create_examples(self, lines, set_type):\n",
    "        \"\"\"Creates examples for the training and dev sets.\n",
    "           각 줄에서 guid, text_a, text_b, label을 추출하여 InputExample을 통해 데이터 재정렬.    \n",
    "        \"\"\"\n",
    "        examples = []\n",
    "        for (i, line) in enumerate(lines):\n",
    "            if i==0: \n",
    "                continue\n",
    "            guid = \"%s-%s\" % (set_type, i) #train/dev + index \n",
    "            text_a = line[1]\n",
    "            text_b = None\n",
    "            label = int(line[2])\n",
    "            #print(\"text_a: \", text_a, \"label:\", label)\n",
    "            examples.append(\n",
    "                InputExample(guid=guid, text_a=text_a, text_b=text_b, label=label))\n",
    "        return examples"
   ]
  },
  {
   "cell_type": "code",
   "execution_count": 5,
   "metadata": {},
   "outputs": [],
   "source": [
    "\"\"\"모두의 말뭉치 웹 말뭉치 데이터를 처리하는 webmProcessor\"\"\"\n",
    "\n",
    "class webmProcessor(DataProcessor):\n",
    "    \"\"\"Processor for the \"web malmoongchi\" data set\"\"\"\n",
    "\n",
    "    def get_train_examples(self, data_dir):\n",
    "        \"\"\"See base class.\"\"\"\n",
    "        logger.info(\"LOOKING AT {}\".format(os.path.join(data_dir, \"ratings_train.txt\")))\n",
    "        return self._create_examples(\n",
    "            self._read_txt(os.path.join(data_dir, \"ratings_train.txt\")), \"train\")\n",
    "\n",
    "    def get_dev_examples(self, data_dir):\n",
    "        \"\"\"See base class.\"\"\"\n",
    "        return self._create_examples(\n",
    "            self._read_txt(os.path.join(data_dir, \"ratings_dev.txt\")), \"dev\")\n",
    "    \n",
    "    def get_test_examples(self, data_dir):\n",
    "        \"\"\"See base class.\"\"\"\n",
    "        return self._create_examples(\n",
    "            self._read_txt(os.path.join(data_dir, \"ratings_test.txt\")), \"test\")\n",
    "\n",
    "    def get_labels(self):\n",
    "        \"\"\"See base class.\"\"\"\n",
    "        return [\"0\", \"1\"] # 부정 0 긍정 1\n",
    "\n",
    "    def _create_examples(self, lines, set_type):\n",
    "        \"\"\"Creates examples for the training and dev sets.\n",
    "           각 줄에서 guid, text_a, text_b, label을 추출하여 InputExample을 통해 데이터 재정렬.    \n",
    "        \"\"\"\n",
    "        examples = []\n",
    "        for (i, line) in enumerate(lines):\n",
    "            if i==0: \n",
    "                continue\n",
    "            guid = \"%s-%s\" % (set_type, i) #train/dev + index \n",
    "            text_a = line[1]\n",
    "            text_b = None\n",
    "            label = int(line[2])\n",
    "            #print(\"text_a: \", text_a, \"label:\", label)\n",
    "            examples.append(\n",
    "                InputExample(guid=guid, text_a=text_a, text_b=text_b, label=label))\n",
    "        return examples"
   ]
  },
  {
   "cell_type": "code",
   "execution_count": 6,
   "metadata": {},
   "outputs": [
    {
     "name": "stderr",
     "output_type": "stream",
     "text": [
      "09/04/2020 20:08:21 - INFO - __main__ -   LOOKING AT ../data/ratings_train.txt\n"
     ]
    },
    {
     "name": "stdout",
     "output_type": "stream",
     "text": [
      "label\ttext \n",
      "     0  아 더빙.. 진짜 짜증나네요 목소리                                                                                  \n",
      "     1  흠...포스터보고 초딩영화줄....오버연기조차 가볍지 않구나                                                                    \n",
      "     0  너무재밓었다그래서보는것을추천한다                                                                                    \n",
      "     0  교도소 이야기구먼 ..솔직히 재미는 없다..평점 조정                                                                        \n",
      "     1  사이몬페그의 익살스런 연기가 돋보였던 영화!스파이더맨에서 늙어보이기만 했던 커스틴 던스트가 너무나도 이뻐보였다                                        \n"
     ]
    }
   ],
   "source": [
    "data_dir = \"../data/\"\n",
    "\n",
    "# 데이터 불러오기 위한 개체 생성 \n",
    "processor = nsmcProcessor()\n",
    "# train data 불러오기 \n",
    "train_examples = processor.get_train_examples(data_dir)\n",
    "\n",
    "print(\"{:2} \".format(\"label\\ttext\"))\n",
    "for (ex_index, example) in enumerate(train_examples):\n",
    "    if ex_index < 5:\n",
    "        print(\"{:6} \".format(example.label), end=' ')\n",
    "        print(\"{:<100} \".format(example.text_a))"
   ]
  },
  {
   "cell_type": "code",
   "execution_count": 7,
   "metadata": {},
   "outputs": [
    {
     "name": "stdout",
     "output_type": "stream",
     "text": [
      "총 데이터 개수: 150000\n",
      "class 0 개수: 75173, 비율: 0.50\n",
      "class 1 개수: 74827, 비율: 0.50\n"
     ]
    }
   ],
   "source": [
    "#클래스 개수 비율 분포 \n",
    "def countLabel(data):\n",
    "    count0 = 0\n",
    "    count1 = 0\n",
    "    for (ex_index, example) in enumerate(data):\n",
    "        if example.label == 0: \n",
    "            count0+=1\n",
    "        elif example.label == 1: \n",
    "            count1+=1\n",
    "    total = len(data)\n",
    "    print(\"총 데이터 개수:\", total)\n",
    "    print(\"class 0 개수: %d, 비율: %.2f\"%(count0, count0/total))\n",
    "    print(\"class 1 개수: %d, 비율: %.2f\"%(count1, count1/total))\n",
    "countLabel(train_examples)"
   ]
  },
  {
   "cell_type": "code",
   "execution_count": 14,
   "metadata": {},
   "outputs": [],
   "source": [
    "#대략적인 vocab size 정하기 \n",
    "from keras.preprocessing.text import Tokenizer\n",
    "\n",
    "#단어 빈도수 \n",
    "def show_word_counts(t, data):\n",
    "    t.fit_on_texts(data)\n",
    "    count=t.word_counts\n",
    "    print(len(count))\n",
    "\n",
    "    sorted_count=sorted(count.items(), key=lambda item: item[1], reverse=True)\n",
    "    word_data=pd.DataFrame(sorted_count)\n",
    "    word_data= word_data.rename(columns={0: \"key\", 1:\"value\"})\n",
    "    \n",
    "    print(word_data)\n",
    "    return word_data\n",
    "\n",
    "#단어 빈도수 분포 \n",
    "def show_counts_frequency(word_data):\n",
    "    length=len(word_data)\n",
    "    list1=[] #count. 단어의 빈도수 list\n",
    "    list2=[] #frequency. 단어의 빈도수의 빈도수 list\n",
    "    index=0\n",
    "    for i in range(length): \n",
    "        cnt=0 #단어의 빈도수의 빈도수 \n",
    "        while length-index-1>=0 and i+1==word_data['value'][length-index-1]:\n",
    "            cnt+=1\n",
    "            #print(y2_l-index-1,y2[y2_l-index-1],cnt)\n",
    "            index+=1\n",
    "        if(cnt!=0):\n",
    "            list1.append(i+1)\n",
    "            list2.append(cnt) \n",
    "            \n",
    "    word_count = pd.DataFrame(list(zip(list1, list2)), \n",
    "                   columns =['count', 'frequency']) \n",
    "    print(word_count[:100])\n",
    "\n",
    "    total=0\n",
    "    for i in range(100):\n",
    "        total+=word_count['frequency'][i]\n",
    "    print(\"1번~100번 등장한 단어의 총 빈도수:\", total,\n",
    "          \"전체 단어 대비 1번~100번 등장한 단어(비율):\",'{:.2f}'.format(total/length*100))"
   ]
  },
  {
   "cell_type": "code",
   "execution_count": 15,
   "metadata": {},
   "outputs": [
    {
     "name": "stdout",
     "output_type": "stream",
     "text": [
      "296310\n",
      "           key  value\n",
      "0           영화  18995\n",
      "1           너무   8563\n",
      "2           정말   8537\n",
      "3           진짜   6682\n",
      "4            이   5418\n",
      "...        ...    ...\n",
      "296305     더블은      1\n",
      "296306    뭔죄인가      1\n",
      "296307  거들먹거리고      1\n",
      "296308     혼혈은      1\n",
      "296309    수간하는      1\n",
      "\n",
      "[296310 rows x 2 columns]\n",
      "    count  frequency\n",
      "0       1     224179\n",
      "1       2      28976\n",
      "2       3      11675\n",
      "3       4       6536\n",
      "4       5       4279\n",
      "..    ...        ...\n",
      "95     96         12\n",
      "96     97         14\n",
      "97     98         15\n",
      "98     99          9\n",
      "99    100          7\n",
      "\n",
      "[100 rows x 2 columns]\n",
      "1번~100번 등장한 단어의 총 빈도수: 295073 전체 단어 대비 1번~100번 등장한 단어(비율): 99.58\n"
     ]
    }
   ],
   "source": [
    "X=[]\n",
    "for (ex_index, example) in enumerate(train_examples):\n",
    "    X.append(example.text_a)\n",
    "\n",
    "t= Tokenizer(lower=True, oov_token=True)\n",
    "\n",
    "word_data = show_word_counts(t, X)\n",
    "show_counts_frequency(word_data)"
   ]
  },
  {
   "cell_type": "code",
   "execution_count": 18,
   "metadata": {},
   "outputs": [],
   "source": [
    "import nltk\n",
    "import matplotlib.pyplot as plt\n",
    "from keras.preprocessing.text import text_to_word_sequence\n",
    "\n",
    "def show_token_count(data):\n",
    "    data_=[]\n",
    "    for line in data:\n",
    "        line2=text_to_word_sequence(line) \n",
    "        data_.append(line2)\n",
    "        \n",
    "    len_result = [len(s) for s in data_]\n",
    "\n",
    "    plt.clf() #clear previous figure\n",
    "    plt.hist(len_result,bins=100)\n",
    "    plt.title('Distribution of length')\n",
    "    plt.xlabel('length')\n",
    "    plt.ylabel('number')\n",
    "    plt.savefig('words_distrib.png', bbox_inches='tight')\n",
    "    plt.show()\n",
    "\n",
    "    print('example의 최대 사용 단어 수 : {}'.format(np.max(len_result)))\n",
    "    print('example의 평균 사용 단어 수 : {:.2f}'.format(np.mean(len_result)))\n",
    "    print('example의 중앙값 사용 단어 수: {:.2f}'.format(np.median(len_result)))"
   ]
  },
  {
   "cell_type": "code",
   "execution_count": 19,
   "metadata": {},
   "outputs": [
    {
     "data": {
      "image/png": "[encoded data removed]",
      "text/plain": [
       "<Figure size 432x288 with 1 Axes>"
      ]
     },
     "metadata": {
      "needs_background": "light"
     },
     "output_type": "display_data"
    },
    {
     "name": "stdout",
     "output_type": "stream",
     "text": [
      "example의 최대 사용 단어 수 : 59\n",
      "example의 평균 사용 단어 수 : 7.85\n",
      "example의 중앙값 사용 단어 수: 6.00\n"
     ]
    }
   ],
   "source": [
    "show_token_count(X)"
   ]
  },
  {
   "cell_type": "code",
   "execution_count": 10,
   "metadata": {
    "scrolled": true
   },
   "outputs": [
    {
     "name": "stdout",
     "output_type": "stream",
     "text": [
      "세계환경수도 조성위해 10개년 실천계획 만들겠다\n",
      "['세계', '환경', '수도', '조성', '위하', '아', '10', '개년', '실천', '계획', '만들', '겠', '다']\n",
      "[('세계', 'NNG'), ('환경', 'NNP'), ('수도', 'NNP'), ('조성', 'NNG'), ('위하', 'VV'), ('아', 'EC'), ('10', 'SN'), ('개년', 'NNB'), ('실천', 'NNG'), ('계획', 'NNG'), ('만들', 'VV'), ('겠', 'EP'), ('다', 'EC')]\n",
      "\n",
      "아버지가방에들어가신다\n",
      "['아버지', '가방', '에', '들어가', '시', 'ㄴ다']\n",
      "[('아버지', 'NNG'), ('가방', 'NNP'), ('에', 'JKB'), ('들어가', 'VV'), ('시', 'EP'), ('ㄴ다', 'EC')]\n",
      "\n",
      "걍 너무 너무 싶퍼요퓨ㅠㅠ 민검사님.걍 쩔고요 아.. 말고안나옵니다\n",
      "['걍', '너무', '너무', '싶퍼요퓨ㅠㅠ', '민검사님.걍', '쩌', 'ㄹ', '고요', '아', '.', '.', '말', '고안', '나오', 'ㅂ니다']\n",
      "[('걍', 'NA'), ('너무', 'MAG'), ('너무', 'MAG'), ('싶퍼요퓨ㅠㅠ', 'NA'), ('민검사님.걍', 'NA'), ('쩌', 'EF'), ('ㄹ', 'ETM'), ('고요', 'NNP'), ('아', 'IC'), ('.', 'SF'), ('.', 'SF'), ('말', 'NNG'), ('고안', 'NNP'), ('나오', 'VV'), ('ㅂ니다', 'EC')]\n"
     ]
    }
   ],
   "source": [
    "#토큰화 (komoran / sentencepiece) 비교\n",
    "#komoran\n",
    "import konlpy\n",
    "from konlpy.tag import Komoran \n",
    "komoran = Komoran()\n",
    "\n",
    "# komoran은 빈줄이 있으면 에러가 남\n",
    "#komoran.morphs(\"\\n\".join([s for s in c[:40].split(\"\\n\") if s]))\n",
    "\n",
    "#21세기 세종계획의 품사기준을 따르고 있다. \n",
    "print('세계환경수도 조성위해 10개년 실천계획 만들겠다')\n",
    "print(komoran.morphs(u'세계환경수도 조성위해 10개년 실천계획 만들겠다'))\n",
    "print(komoran.pos(u'세계환경수도 조성위해 10개년 실천계획 만들겠다'))\n",
    "print()\n",
    "print('아버지가방에들어가신다')\n",
    "print(komoran.morphs(u'아버지가방에들어가신다'))\n",
    "print(komoran.pos(u'아버지가방에들어가신다'))\n",
    "print()\n",
    "print('걍 너무 너무 싶퍼요퓨ㅠㅠ 민검사님.걍 쩔고요 아.. 말고안나옵니다')\n",
    "print(komoran.morphs(u'걍 너무 너무 싶퍼요퓨ㅠㅠ 민검사님.걍 쩔고요 아.. 말고안나옵니다'))\n",
    "print(komoran.pos(u'걍 너무 너무 싶퍼요퓨ㅠㅠ 민검사님.걍 쩔고요 아.. 말고안나옵니다'))"
   ]
  },
  {
   "cell_type": "code",
   "execution_count": 29,
   "metadata": {},
   "outputs": [
    {
     "name": "stdout",
     "output_type": "stream",
     "text": [
      "[('걍', 'NA'), ('너무', 'MAG'), ('너무', 'MAG'), ('싶', 'NA'), ('푸', 'VV'), ('어', 'EC'), ('요퓨ᅲᅲ', 'NA'), ('민', 'NNP'), ('검사', 'NNG'), ('님', 'XSN'), ('.', 'SF'), ('걍', 'NA'), ('쩌', 'EF'), ('ㄹ', 'ETM'), ('고', 'NNP'), ('요', 'MM'), ('아', 'IC'), ('..', 'SE'), ('말', 'VX'), ('고', 'EC'), ('안', 'MAG'), ('나오', 'VV'), ('ㅂ니다', 'EC')]\n"
     ]
    }
   ],
   "source": [
    "print([('걍', 'NA'), ('너무', 'MAG'), ('너무', 'MAG'), ('싶', 'NA'), ('푸', 'VV'), ('어', 'EC'), ('요퓨ᅲᅲ', 'NA'), ('민', 'NNP'), ('검사', 'NNG'), ('님', 'XSN'), ('.', 'SF'), ('걍', 'NA'), ('쩌', 'EF'), ('ㄹ', 'ETM'), ('고', 'NNP'), ('요', 'MM'), ('아', 'IC'), ('..', 'SE'), ('말', 'VX'), ('고', 'EC'), ('안', 'MAG'), ('나오', 'VV'), ('ㅂ니다', 'EC')])"
   ]
  },
  {
   "cell_type": "code",
   "execution_count": 11,
   "metadata": {},
   "outputs": [
    {
     "data": {
      "text/plain": [
       "True"
      ]
     },
     "execution_count": 11,
     "metadata": {},
     "output_type": "execute_result"
    }
   ],
   "source": [
    "#sentencepiece\n",
    "import sentencepiece as spm\n",
    "\n",
    "# #nsmc txt 파일 생성하기 \n",
    "# with open('../data/nsmc.txt', 'a') as f:\n",
    "#     for s in X:\n",
    "#         f.write(\"%s\\n\" % s)\n",
    "\n",
    "spm.SentencePieceTrainer.train('--input=../data/ratings_train.txt --model_prefix=nsmc_m --vocab_size=144652')\n",
    "sp = spm.SentencePieceProcessor()\n",
    "sp.load('nsmc_m.model')"
   ]
  },
  {
   "cell_type": "code",
   "execution_count": 27,
   "metadata": {},
   "outputs": [],
   "source": [
    "import re\n",
    "from django.contrib.admin.utils import flatten\n",
    "\n",
    "def convert_pos(pieces):\n",
    "    komoran = Komoran()\n",
    "    output=[]\n",
    "    for p in pieces:\n",
    "        p = re.sub('▁','',p)\n",
    "        pos = komoran.pos(p)\n",
    "        output.append(pos)\n",
    "    return flatten(output)"
   ]
  },
  {
   "cell_type": "code",
   "execution_count": 28,
   "metadata": {},
   "outputs": [
    {
     "name": "stdout",
     "output_type": "stream",
     "text": [
      "세계환경수도 조성위해 10개년 실천계획 만들겠다\n",
      "['▁세계', '환경', '수도', '▁조성', '위해', '▁10', '개', '년', '▁실천', '계', '획', '▁만들겠다']\n",
      "[('세계', 'NNG'), ('환경', 'NNG'), ('수', 'NNB'), ('도', 'JX'), ('조성', 'NNG'), ('위하', 'VV'), ('아', 'EC'), ('10', 'SN'), ('개', 'NNB'), ('년', 'NNB'), ('실천', 'NNG'), ('계', 'NNG'), ('획', 'MAG'), ('만들', 'VV'), ('겠', 'EP'), ('다', 'EC')]\n",
      "\n",
      "아버지가방에들어가신다\n",
      "['▁아버지가', '방에', '들어가', '신다']\n",
      "[('아버지', 'NNG'), ('가', 'JKS'), ('방', 'NNG'), ('에', 'JKB'), ('들어가', 'VV'), ('아', 'EC'), ('신', 'VV'), ('다', 'EC')]\n",
      "\n",
      "걍 너무 너무 싶퍼요퓨ㅠㅠ 민검사님.걍 쩔고요 아.. 말고안나옵니다\n",
      "['▁걍', '▁너무', '▁너무', '▁싶', '퍼', '요퓨ᅲᅲ', '▁민검사님', '.', '걍', '▁쩔고', '요', '▁아', '..', '▁말고', '안나옵니다']\n",
      "[('걍', 'NA'), ('너무', 'MAG'), ('너무', 'MAG'), ('싶', 'NA'), ('푸', 'VV'), ('어', 'EC'), ('요퓨ᅲᅲ', 'NA'), ('민', 'NNP'), ('검사', 'NNG'), ('님', 'XSN'), ('.', 'SF'), ('걍', 'NA'), ('쩌', 'EF'), ('ㄹ', 'ETM'), ('고', 'NNP'), ('요', 'MM'), ('아', 'IC'), ('..', 'SE'), ('말', 'VX'), ('고', 'EC'), ('안', 'MAG'), ('나오', 'VV'), ('ㅂ니다', 'EC')]\n"
     ]
    }
   ],
   "source": [
    "#Komoran을 한번 거치는 과정에서 sentencepiece으로 토큰화된 토큰이 더 세부적으로 쪼개지게 됨\n",
    "#그러면서 품사 태깅을 더 정확하게 하는 효과가 있음!\n",
    "#정돈된 문장은 komoran, 비문은 sentencepiece가 더 강한 느낌이다. \n",
    "\n",
    "print('세계환경수도 조성위해 10개년 실천계획 만들겠다')\n",
    "print(sp.encode_as_pieces('세계환경수도 조성위해 10개년 실천계획 만들겠다'))\n",
    "print(convert_pos(sp.encode_as_pieces('세계환경수도 조성위해 10개년 실천계획 만들겠다')))\n",
    "\n",
    "print()\n",
    "print('아버지가방에들어가신다')\n",
    "print(sp.encode_as_pieces('아버지가방에들어가신다'))\n",
    "print(convert_pos(sp.encode_as_pieces('아버지가방에들어가신다')))\n",
    "\n",
    "print()\n",
    "print('걍 너무 너무 싶퍼요퓨ㅠㅠ 민검사님.걍 쩔고요 아.. 말고안나옵니다')\n",
    "print(sp.encode_as_pieces('걍 너무 너무 싶퍼요퓨ㅠㅠ 민검사님.걍 쩔고요 아.. 말고안나옵니다'))\n",
    "print(convert_pos(sp.encode_as_pieces('걍 너무 너무 싶퍼요퓨ㅠㅠ 민검사님.걍 쩔고요 아.. 말고안나옵니다')))\n"
   ]
  },
  {
   "cell_type": "code",
   "execution_count": null,
   "metadata": {},
   "outputs": [],
   "source": []
  }
 ],
 "metadata": {
  "kernelspec": {
   "display_name": "medinfo",
   "language": "python",
   "name": "medinfo"
  },
  "language_info": {
   "codemirror_mode": {
    "name": "ipython",
    "version": 3
   },
   "file_extension": ".py",
   "mimetype": "text/x-python",
   "name": "python",
   "nbconvert_exporter": "python",
   "pygments_lexer": "ipython3",
   "version": "3.7.7"
  }
 },
 "nbformat": 4,
 "nbformat_minor": 4
}
