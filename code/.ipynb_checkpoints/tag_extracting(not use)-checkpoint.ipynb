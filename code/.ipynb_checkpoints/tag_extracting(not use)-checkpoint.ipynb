{
 "cells": [
  {
   "cell_type": "code",
   "execution_count": null,
   "metadata": {},
   "outputs": [],
   "source": [
    "#시간이 오래걸려서 패스.\n",
    "\n",
    "#komoran 사용 이유 : 분석 불능 범주 NA 태그를 이용할 수 있음.  \n",
    "import re\n",
    "import konlpy\n",
    "from konlpy.tag import Komoran \n",
    "\n",
    "JEX = ['JKS','JKC','JKG','JKO','JKB','JKV','JKQ','JX','JC',\n",
    "       'EP','EF','EC','ETN','ETM',\n",
    "       'XPN','XSN','XSV','XSA']\n",
    "\n",
    "def extract_real_tag(sentence): #조사 접사 어미 제외하고 추출하는 함수  \n",
    "    komoran = Komoran()\n",
    "    extracted_list = []\n",
    "    pos = komoran.pos(sentence)\n",
    "    for p in pos:\n",
    "        if p[1] in JEX: continue\n",
    "        else: extracted_list.append(p[0])\n",
    "    return ' '.join(extracted_list)"
   ]
  },
  {
   "cell_type": "code",
   "execution_count": null,
   "metadata": {},
   "outputs": [],
   "source": [
    "sentence  = \"한 홍대 부루스타 떡볶이를 먹으러 벼르다가 드디어 고고링 즉석떡볶이는 존맛탱인뎅 차돌박이까지 들어가면 완전 핵꿀맛일듯\"\n",
    "extract_real_tag(sentence)"
   ]
  },
  {
   "cell_type": "code",
   "execution_count": null,
   "metadata": {},
   "outputs": [],
   "source": [
    "import numpy as np\n",
    "import pandas as pd\n",
    "df=pd.read_pickle(\"../data/train/clean_data.pkl\")"
   ]
  },
  {
   "cell_type": "code",
   "execution_count": null,
   "metadata": {},
   "outputs": [],
   "source": [
    "df.head()"
   ]
  },
  {
   "cell_type": "code",
   "execution_count": null,
   "metadata": {},
   "outputs": [],
   "source": [
    "from tqdm import tnrange, tqdm_notebook\n",
    "\n",
    "df2 = df.copy\n",
    "for index in tnrange(len(df)):\n",
    "    df2.loc[index,'text'] = extract_real_tag(df.loc[index,'text'])"
   ]
  },
  {
   "cell_type": "code",
   "execution_count": null,
   "metadata": {},
   "outputs": [],
   "source": [
    "df2.head()"
   ]
  },
  {
   "cell_type": "code",
   "execution_count": null,
   "metadata": {},
   "outputs": [],
   "source": [
    "with open('extracted_data.txt', 'a') as f:\n",
    "    for index, row in df2.iterrows():\n",
    "        f.write(\"%s\\n\" % row['text'])"
   ]
  },
  {
   "cell_type": "code",
   "execution_count": null,
   "metadata": {},
   "outputs": [],
   "source": [
    "df2.to_pickle(\"extracted_data.pkl\")\n",
    "df2.to_csv('extracted_data.tsv', index=False, header=None, sep='\\t')"
   ]
  }
 ],
 "metadata": {
  "kernelspec": {
   "display_name": "Python 3",
   "language": "python",
   "name": "python3"
  },
  "language_info": {
   "codemirror_mode": {
    "name": "ipython",
    "version": 3
   },
   "file_extension": ".py",
   "mimetype": "text/x-python",
   "name": "python",
   "nbconvert_exporter": "python",
   "pygments_lexer": "ipython3",
   "version": "3.7.7"
  }
 },
 "nbformat": 4,
 "nbformat_minor": 4
}
