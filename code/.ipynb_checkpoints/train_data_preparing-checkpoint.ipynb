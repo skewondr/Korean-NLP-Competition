{
 "cells": [
  {
   "cell_type": "code",
   "execution_count": 1,
   "metadata": {},
   "outputs": [],
   "source": [
    "import csv\n",
    "\n",
    "X_nsmc=[]\n",
    "label=[]\n",
    "path_to_folder2 = \"../data/sub_data/ratings_train.txt\"\n",
    "with open(path_to_folder2, \"r\", encoding='utf-8') as f:\n",
    "        reader = csv.reader(f, delimiter=\"\\t\")\n",
    "        for i, line in enumerate(reader):\n",
    "            if i==0: \n",
    "                continue\n",
    "            X_nsmc.append(line[1])\n",
    "            label.append(line[2])"
   ]
  },
  {
   "cell_type": "code",
   "execution_count": 2,
   "metadata": {},
   "outputs": [
    {
     "name": "stdout",
     "output_type": "stream",
     "text": [
      "150000 150000\n"
     ]
    }
   ],
   "source": [
    "print(len(X_nsmc),len(label))"
   ]
  },
  {
   "cell_type": "code",
   "execution_count": 3,
   "metadata": {},
   "outputs": [],
   "source": [
    "with open('../data/train/main_data.txt', 'a') as f:\n",
    "    for s in X_nsmc:\n",
    "        f.write(\"%s\\n\" % s)"
   ]
  },
  {
   "cell_type": "code",
   "execution_count": 4,
   "metadata": {},
   "outputs": [],
   "source": [
    "#특수문자, 이모티콘, 숫자, 공백 제거하기 \n",
    "import re \n",
    "\n",
    "def cleansing(s):\n",
    "    sentence = s\n",
    "    emoji_pattern = re.compile(\"[\"\n",
    "                u\"\\U0001F600-\\U0001F64F\"  # emoticons\n",
    "                u\"\\U0001F300-\\U0001F5FF\"  # symbols & pictographs\n",
    "                u\"\\U0001F680-\\U0001F6FF\"  # transport & map symbols\n",
    "                u\"\\U0001F1E0-\\U0001F1FF\"  # flags (iOS)\n",
    "                u\"\\U00002702-\\U000027B0\"\n",
    "                u\"\\U000024C2-\\U0001F251\"\n",
    "                u\"\\U0001f926-\\U0001f937\"\n",
    "                u'\\U00010000-\\U0010ffff'\n",
    "                u\"\\u200d\"\n",
    "                u\"\\u2640-\\u2642\"\n",
    "                u\"\\u2600-\\u2B55\"\n",
    "                u\"\\u23cf\"\n",
    "                u\"\\u23e9\"\n",
    "                u\"\\u231a\"\n",
    "                u\"\\u3030\"\n",
    "                u\"\\ufe0f\"\n",
    "    \"]+\", flags=re.UNICODE)\n",
    "    #sentence = re.sub(emoji_pattern,'',sentence) #이모티콘 제거 \n",
    "    sentence = re.sub('[0-9]','',sentence) #숫자 제거 \n",
    "    sentence = re.sub('[\\s]{1,}',' ',sentence) #공백이 두번 이상 중복될 경우 제거 \n",
    "    sentence = re.sub('[^\\w\\s]','',sentence) #특정 특수문자 제거 \n",
    "    #sentence = re.sub('[ㄱ-ㅎㅏ-ㅣ]+','',sentence) #한글 자음 모음 제거  \n",
    "    \n",
    "#     if sentence == '' or sentence == ' ': print(s)\n",
    "    return sentence \n",
    "    "
   ]
  },
  {
   "cell_type": "code",
   "execution_count": 5,
   "metadata": {},
   "outputs": [],
   "source": [
    "total_X = []\n",
    "for s in X_nsmc:\n",
    "    total_X.append(cleansing(s))"
   ]
  },
  {
   "cell_type": "code",
   "execution_count": 6,
   "metadata": {},
   "outputs": [
    {
     "data": {
      "text/html": [
       "<div>\n",
       "<style scoped>\n",
       "    .dataframe tbody tr th:only-of-type {\n",
       "        vertical-align: middle;\n",
       "    }\n",
       "\n",
       "    .dataframe tbody tr th {\n",
       "        vertical-align: top;\n",
       "    }\n",
       "\n",
       "    .dataframe thead th {\n",
       "        text-align: right;\n",
       "    }\n",
       "</style>\n",
       "<table border=\"1\" class=\"dataframe\">\n",
       "  <thead>\n",
       "    <tr style=\"text-align: right;\">\n",
       "      <th></th>\n",
       "      <th>Text</th>\n",
       "      <th>Label</th>\n",
       "    </tr>\n",
       "  </thead>\n",
       "  <tbody>\n",
       "    <tr>\n",
       "      <th>0</th>\n",
       "      <td>아 더빙 진짜 짜증나네요 목소리</td>\n",
       "      <td>0</td>\n",
       "    </tr>\n",
       "    <tr>\n",
       "      <th>1</th>\n",
       "      <td>흠포스터보고 초딩영화줄오버연기조차 가볍지 않구나</td>\n",
       "      <td>1</td>\n",
       "    </tr>\n",
       "    <tr>\n",
       "      <th>2</th>\n",
       "      <td>너무재밓었다그래서보는것을추천한다</td>\n",
       "      <td>0</td>\n",
       "    </tr>\n",
       "    <tr>\n",
       "      <th>3</th>\n",
       "      <td>교도소 이야기구먼 솔직히 재미는 없다평점 조정</td>\n",
       "      <td>0</td>\n",
       "    </tr>\n",
       "    <tr>\n",
       "      <th>4</th>\n",
       "      <td>사이몬페그의 익살스런 연기가 돋보였던 영화스파이더맨에서 늙어보이기만 했던 커스틴 던...</td>\n",
       "      <td>1</td>\n",
       "    </tr>\n",
       "    <tr>\n",
       "      <th>...</th>\n",
       "      <td>...</td>\n",
       "      <td>...</td>\n",
       "    </tr>\n",
       "    <tr>\n",
       "      <th>149995</th>\n",
       "      <td>인간이 문제지 소는 뭔죄인가</td>\n",
       "      <td>0</td>\n",
       "    </tr>\n",
       "    <tr>\n",
       "      <th>149996</th>\n",
       "      <td>평점이 너무 낮아서</td>\n",
       "      <td>1</td>\n",
       "    </tr>\n",
       "    <tr>\n",
       "      <th>149997</th>\n",
       "      <td>이게 뭐요 한국인은 거들먹거리고 필리핀 혼혈은 착하다</td>\n",
       "      <td>0</td>\n",
       "    </tr>\n",
       "    <tr>\n",
       "      <th>149998</th>\n",
       "      <td>청춘 영화의 최고봉방황과 우울했던 날들의 자화상</td>\n",
       "      <td>1</td>\n",
       "    </tr>\n",
       "    <tr>\n",
       "      <th>149999</th>\n",
       "      <td>한국 영화 최초로 수간하는 내용이 담긴 영화</td>\n",
       "      <td>0</td>\n",
       "    </tr>\n",
       "  </tbody>\n",
       "</table>\n",
       "<p>150000 rows × 2 columns</p>\n",
       "</div>"
      ],
      "text/plain": [
       "                                                     Text Label\n",
       "0                                       아 더빙 진짜 짜증나네요 목소리     0\n",
       "1                              흠포스터보고 초딩영화줄오버연기조차 가볍지 않구나     1\n",
       "2                                       너무재밓었다그래서보는것을추천한다     0\n",
       "3                               교도소 이야기구먼 솔직히 재미는 없다평점 조정     0\n",
       "4       사이몬페그의 익살스런 연기가 돋보였던 영화스파이더맨에서 늙어보이기만 했던 커스틴 던...     1\n",
       "...                                                   ...   ...\n",
       "149995                                    인간이 문제지 소는 뭔죄인가     0\n",
       "149996                                         평점이 너무 낮아서     1\n",
       "149997                      이게 뭐요 한국인은 거들먹거리고 필리핀 혼혈은 착하다     0\n",
       "149998                         청춘 영화의 최고봉방황과 우울했던 날들의 자화상     1\n",
       "149999                           한국 영화 최초로 수간하는 내용이 담긴 영화     0\n",
       "\n",
       "[150000 rows x 2 columns]"
      ]
     },
     "execution_count": 6,
     "metadata": {},
     "output_type": "execute_result"
    }
   ],
   "source": [
    "import pandas as pd\n",
    "train_df = pd.DataFrame({'Text':total_X, 'Label':label})\n",
    "train_df"
   ]
  },
  {
   "cell_type": "code",
   "execution_count": 7,
   "metadata": {},
   "outputs": [
    {
     "name": "stdout",
     "output_type": "stream",
     "text": [
      "총 데이터 수:  150000\n",
      "중복 제거 후 총 데이터 수:  144314\n",
      "공백 제거 후 총 데이터 수:  144314\n"
     ]
    }
   ],
   "source": [
    "print(\"총 데이터 수: \", len(train_df))\n",
    "\n",
    "train_df = train_df.drop_duplicates(['Text'])\n",
    "print(\"중복 제거 후 총 데이터 수: \", len(train_df))\n",
    "\n",
    "train_df= train_df.dropna(axis=0)\n",
    "print(\"공백 제거 후 총 데이터 수: \", len(train_df))"
   ]
  },
  {
   "cell_type": "code",
   "execution_count": 9,
   "metadata": {},
   "outputs": [
    {
     "data": {
      "text/html": [
       "<div>\n",
       "<style scoped>\n",
       "    .dataframe tbody tr th:only-of-type {\n",
       "        vertical-align: middle;\n",
       "    }\n",
       "\n",
       "    .dataframe tbody tr th {\n",
       "        vertical-align: top;\n",
       "    }\n",
       "\n",
       "    .dataframe thead th {\n",
       "        text-align: right;\n",
       "    }\n",
       "</style>\n",
       "<table border=\"1\" class=\"dataframe\">\n",
       "  <thead>\n",
       "    <tr style=\"text-align: right;\">\n",
       "      <th></th>\n",
       "      <th>Text</th>\n",
       "      <th>Label</th>\n",
       "    </tr>\n",
       "  </thead>\n",
       "  <tbody>\n",
       "    <tr>\n",
       "      <th>0</th>\n",
       "      <td>아 더빙 진짜 짜증나네요 목소리</td>\n",
       "      <td>0</td>\n",
       "    </tr>\n",
       "    <tr>\n",
       "      <th>1</th>\n",
       "      <td>흠포스터보고 초딩영화줄오버연기조차 가볍지 않구나</td>\n",
       "      <td>1</td>\n",
       "    </tr>\n",
       "    <tr>\n",
       "      <th>2</th>\n",
       "      <td>너무재밓었다그래서보는것을추천한다</td>\n",
       "      <td>0</td>\n",
       "    </tr>\n",
       "    <tr>\n",
       "      <th>3</th>\n",
       "      <td>교도소 이야기구먼 솔직히 재미는 없다평점 조정</td>\n",
       "      <td>0</td>\n",
       "    </tr>\n",
       "    <tr>\n",
       "      <th>4</th>\n",
       "      <td>사이몬페그의 익살스런 연기가 돋보였던 영화스파이더맨에서 늙어보이기만 했던 커스틴 던...</td>\n",
       "      <td>1</td>\n",
       "    </tr>\n",
       "    <tr>\n",
       "      <th>...</th>\n",
       "      <td>...</td>\n",
       "      <td>...</td>\n",
       "    </tr>\n",
       "    <tr>\n",
       "      <th>144309</th>\n",
       "      <td>디케이드 다음에 더블 다음에 오즈인데 더블은 조금밖에 안나오네요</td>\n",
       "      <td>1</td>\n",
       "    </tr>\n",
       "    <tr>\n",
       "      <th>144310</th>\n",
       "      <td>인간이 문제지 소는 뭔죄인가</td>\n",
       "      <td>0</td>\n",
       "    </tr>\n",
       "    <tr>\n",
       "      <th>144311</th>\n",
       "      <td>이게 뭐요 한국인은 거들먹거리고 필리핀 혼혈은 착하다</td>\n",
       "      <td>0</td>\n",
       "    </tr>\n",
       "    <tr>\n",
       "      <th>144312</th>\n",
       "      <td>청춘 영화의 최고봉방황과 우울했던 날들의 자화상</td>\n",
       "      <td>1</td>\n",
       "    </tr>\n",
       "    <tr>\n",
       "      <th>144313</th>\n",
       "      <td>한국 영화 최초로 수간하는 내용이 담긴 영화</td>\n",
       "      <td>0</td>\n",
       "    </tr>\n",
       "  </tbody>\n",
       "</table>\n",
       "<p>144314 rows × 2 columns</p>\n",
       "</div>"
      ],
      "text/plain": [
       "                                                     Text Label\n",
       "0                                       아 더빙 진짜 짜증나네요 목소리     0\n",
       "1                              흠포스터보고 초딩영화줄오버연기조차 가볍지 않구나     1\n",
       "2                                       너무재밓었다그래서보는것을추천한다     0\n",
       "3                               교도소 이야기구먼 솔직히 재미는 없다평점 조정     0\n",
       "4       사이몬페그의 익살스런 연기가 돋보였던 영화스파이더맨에서 늙어보이기만 했던 커스틴 던...     1\n",
       "...                                                   ...   ...\n",
       "144309                디케이드 다음에 더블 다음에 오즈인데 더블은 조금밖에 안나오네요     1\n",
       "144310                                    인간이 문제지 소는 뭔죄인가     0\n",
       "144311                      이게 뭐요 한국인은 거들먹거리고 필리핀 혼혈은 착하다     0\n",
       "144312                         청춘 영화의 최고봉방황과 우울했던 날들의 자화상     1\n",
       "144313                           한국 영화 최초로 수간하는 내용이 담긴 영화     0\n",
       "\n",
       "[144314 rows x 2 columns]"
      ]
     },
     "execution_count": 9,
     "metadata": {},
     "output_type": "execute_result"
    }
   ],
   "source": [
    "train_df.reset_index(drop=True, inplace=True)\n",
    "train_df"
   ]
  },
  {
   "cell_type": "code",
   "execution_count": null,
   "metadata": {},
   "outputs": [],
   "source": [
    "# f = open(\"../data/train/clean_data.txt\", \"w\")\n",
    "# for i in train_df['Text']:\n",
    "#     f.write(\"%s\\n\"%i)\n",
    "# f.close() "
   ]
  },
  {
   "cell_type": "code",
   "execution_count": 21,
   "metadata": {},
   "outputs": [],
   "source": [
    "# import pandas as pd\n",
    "\n",
    "# clean_df = pd.DataFrame({'text':total_X})\n",
    "# clean_df.to_csv( '../data/train/clean_data.tsv', index=False, header=None, sep='\\t')\n",
    "# clean_df.to_pickle(\"../data/train/clean_data.pkl\")"
   ]
  },
  {
   "cell_type": "code",
   "execution_count": 10,
   "metadata": {},
   "outputs": [],
   "source": [
    "train_df.to_pickle(\"../data/train/train_data.pkl\")"
   ]
  },
  {
   "cell_type": "code",
   "execution_count": 11,
   "metadata": {},
   "outputs": [],
   "source": [
    "#대략적인 vocab size 정하기 \n",
    "import pandas as pd\n",
    "from keras.preprocessing.text import Tokenizer\n",
    "\n",
    "#단어 빈도수 \n",
    "def show_word_counts(t, data):\n",
    "    t.fit_on_texts(data)\n",
    "    count=t.word_counts\n",
    "    print(len(count))\n",
    "\n",
    "    sorted_count=sorted(count.items(), key=lambda item: item[1], reverse=True)\n",
    "    word_data=pd.DataFrame(sorted_count)\n",
    "    word_data= word_data.rename(columns={0: \"key\", 1:\"value\"})\n",
    "    \n",
    "    print(word_data)\n",
    "    return word_data\n",
    "\n",
    "#단어 빈도수 분포 \n",
    "def show_counts_frequency(word_data):\n",
    "    length=len(word_data)\n",
    "    list1=[] #count. 단어의 빈도수 list\n",
    "    list2=[] #frequency. 단어의 빈도수의 빈도수 list\n",
    "    index=0\n",
    "    for i in range(length): \n",
    "        cnt=0 #단어의 빈도수의 빈도수 \n",
    "        while length-index-1>=0 and i+1==word_data['value'][length-index-1]:\n",
    "            cnt+=1\n",
    "            #print(y2_l-index-1,y2[y2_l-index-1],cnt)\n",
    "            index+=1\n",
    "        if(cnt!=0):\n",
    "            list1.append(i+1)\n",
    "            list2.append(cnt) \n",
    "            \n",
    "    word_count = pd.DataFrame(list(zip(list1, list2)), \n",
    "                   columns =['count', 'frequency']) \n",
    "    print(word_count[:100])\n",
    "\n",
    "    total=0\n",
    "    for i in range(100):\n",
    "        total+=word_count['frequency'][i]\n",
    "    print(\"1번~100번 등장한 단어의 총 빈도수:\", total,\n",
    "          \"전체 단어 대비 1번~100번 등장한 단어(비율):\",'{:.2f}'.format(total/length*100))"
   ]
  },
  {
   "cell_type": "code",
   "execution_count": 12,
   "metadata": {},
   "outputs": [
    {
     "name": "stdout",
     "output_type": "stream",
     "text": [
      "303842\n",
      "           key  value\n",
      "0           영화  17767\n",
      "1           너무   8298\n",
      "2           정말   8032\n",
      "3           진짜   6210\n",
      "4            이   5156\n",
      "...        ...    ...\n",
      "303837    뭔죄인가      1\n",
      "303838  거들먹거리고      1\n",
      "303839     혼혈은      1\n",
      "303840  최고봉방황과      1\n",
      "303841    수간하는      1\n",
      "\n",
      "[303842 rows x 2 columns]\n",
      "    count  frequency\n",
      "0       1     235800\n",
      "1       2      27419\n",
      "2       3      10945\n",
      "3       4       6209\n",
      "4       5       4016\n",
      "..    ...        ...\n",
      "95     96         10\n",
      "96     97         15\n",
      "97     98          7\n",
      "98     99         11\n",
      "99    100         16\n",
      "\n",
      "[100 rows x 2 columns]\n",
      "1번~100번 등장한 단어의 총 빈도수: 302671 전체 단어 대비 1번~100번 등장한 단어(비율): 99.61\n"
     ]
    }
   ],
   "source": [
    "t= Tokenizer(lower=True, oov_token=True)\n",
    "\n",
    "word_data = show_word_counts(t, total_X)\n",
    "show_counts_frequency(word_data)"
   ]
  },
  {
   "cell_type": "code",
   "execution_count": 13,
   "metadata": {},
   "outputs": [],
   "source": [
    "import numpy as np\n",
    "import nltk\n",
    "import matplotlib.pyplot as plt\n",
    "from keras.preprocessing.text import text_to_word_sequence\n",
    "\n",
    "def show_token_count(data):\n",
    "    data_=[]\n",
    "    for line in data:\n",
    "        line2=text_to_word_sequence(line) \n",
    "        data_.append(line2)\n",
    "        \n",
    "    len_result = [len(s) for s in data_]\n",
    "\n",
    "    plt.clf() #clear previous figure\n",
    "    plt.hist(len_result,bins=100)\n",
    "    plt.title('Distribution of length')\n",
    "    plt.xlabel('length')\n",
    "    plt.ylabel('number')\n",
    "    plt.savefig('words_distrib.png', bbox_inches='tight')\n",
    "    plt.show()\n",
    "\n",
    "    print('example의 최대 사용 단어 수 : {}'.format(np.max(len_result)))\n",
    "    print('example의 평균 사용 단어 수 : {:.2f}'.format(np.mean(len_result)))\n",
    "    print('example의 중앙값 사용 단어 수: {:.2f}'.format(np.median(len_result)))"
   ]
  },
  {
   "cell_type": "code",
   "execution_count": 14,
   "metadata": {},
   "outputs": [
    {
     "data": {
      "image/png": "[encoded data removed]",
      "text/plain": [
       "<Figure size 432x288 with 1 Axes>"
      ]
     },
     "metadata": {
      "needs_background": "light"
     },
     "output_type": "display_data"
    },
    {
     "name": "stdout",
     "output_type": "stream",
     "text": [
      "example의 최대 사용 단어 수 : 41\n",
      "example의 평균 사용 단어 수 : 7.53\n",
      "example의 중앙값 사용 단어 수: 6.00\n"
     ]
    }
   ],
   "source": [
    "show_token_count(total_X)"
   ]
  },
  {
   "cell_type": "code",
   "execution_count": null,
   "metadata": {},
   "outputs": [],
   "source": []
  },
  {
   "cell_type": "code",
   "execution_count": null,
   "metadata": {},
   "outputs": [],
   "source": []
  }
 ],
 "metadata": {
  "kernelspec": {
   "display_name": "medinfo",
   "language": "python",
   "name": "medinfo"
  },
  "language_info": {
   "codemirror_mode": {
    "name": "ipython",
    "version": 3
   },
   "file_extension": ".py",
   "mimetype": "text/x-python",
   "name": "python",
   "nbconvert_exporter": "python",
   "pygments_lexer": "ipython3",
   "version": "3.7.7"
  }
 },
 "nbformat": 4,
 "nbformat_minor": 4
}
