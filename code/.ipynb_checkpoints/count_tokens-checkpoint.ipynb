{
 "cells": [
  {
   "cell_type": "code",
   "execution_count": 1,
   "metadata": {},
   "outputs": [
    {
     "data": {
      "text/plain": [
       "True"
      ]
     },
     "execution_count": 1,
     "metadata": {},
     "output_type": "execute_result"
    }
   ],
   "source": [
    "import sentencepiece as spm\n",
    "sp = spm.SentencePieceProcessor()\n",
    "\n",
    "model_name = 'm_30.model'\n",
    "vocab_name = 'm_30.vocab'\n",
    "sp.load('./sp_models/'+ model_name)"
   ]
  },
  {
   "cell_type": "code",
   "execution_count": 2,
   "metadata": {},
   "outputs": [],
   "source": [
    "import numpy as np\n",
    "# Load\n",
    "read_dictionary = np.load('../data/token/distance/elephant_dict.npy' ,allow_pickle='TRUE').item()\n",
    "read_dictionary2 = np.load('../data/token/distance_round/elephant_dict.npy' ,allow_pickle='TRUE').item()"
   ]
  },
  {
   "cell_type": "code",
   "execution_count": 6,
   "metadata": {},
   "outputs": [],
   "source": [
    "from collections import Counter\n",
    "def count_values(dictionary):\n",
    "    numbers = []\n",
    "    for d in dictionary.keys():\n",
    "        numbers.append(dictionary[d])\n",
    "    ret = Counter(numbers)\n",
    "    return ret\n",
    "\n",
    "def connect_keys(dictionary, sp_model):\n",
    "    init_dict = count_values(dictionary)\n",
    "    new_keys=[]\n",
    "    for d in init_dict.keys():\n",
    "        new_keys.append(sp.id_to_piece(d))\n",
    "    final_dict = dict(zip(new_keys, list(init_dict.values()))) \n",
    "    return final_dict"
   ]
  },
  {
   "cell_type": "code",
   "execution_count": 7,
   "metadata": {},
   "outputs": [],
   "source": [
    "output = connect_keys(read_dictionary, sp)\n",
    "output2 = connect_keys(read_dictionary2, sp)"
   ]
  },
  {
   "cell_type": "code",
   "execution_count": 20,
   "metadata": {},
   "outputs": [
    {
     "name": "stdout",
     "output_type": "stream",
     "text": [
      "case 'distance'의 흡수된 토큰의 수 평균: 9.24\n",
      "case 'distance'의 흡수된 토큰의 수 중앙값: 4.00\n",
      "case 'distance_round'의 흡수된 토큰의 수 평균: 4.49\n",
      "case 'distance_round'의 흡수된 토큰의 수 중앙값: 3.00\n"
     ]
    }
   ],
   "source": [
    "print(\"case 'distance'의 흡수된 토큰의 수 평균: %.2f\"%np.mean(list(output.values())))\n",
    "print(\"case 'distance'의 흡수된 토큰의 수 중앙값: %.2f\"%np.median(list(output.values())))\n",
    "print(\"case 'distance_round'의 흡수된 토큰의 수 평균: %.2f\"%np.mean(list(output2.values())))\n",
    "print(\"case 'distance_round'의 흡수된 토큰의 수 중앙값: %.2f\"%np.median(list(output2.values())))"
   ]
  },
  {
   "cell_type": "code",
   "execution_count": null,
   "metadata": {},
   "outputs": [],
   "source": []
  }
 ],
 "metadata": {
  "kernelspec": {
   "display_name": "medinfo",
   "language": "python",
   "name": "medinfo"
  },
  "language_info": {
   "codemirror_mode": {
    "name": "ipython",
    "version": 3
   },
   "file_extension": ".py",
   "mimetype": "text/x-python",
   "name": "python",
   "nbconvert_exporter": "python",
   "pygments_lexer": "ipython3",
   "version": "3.7.7"
  }
 },
 "nbformat": 4,
 "nbformat_minor": 4
}
